{
 "cells": [
  {
   "cell_type": "code",
   "execution_count": 2,
   "metadata": {},
   "outputs": [],
   "source": [
    "%matplotlib inline\n",
    "import numpy as np\n",
    "from numpy.random import rand\n",
    "import matplotlib.pyplot as plt"
   ]
  },
  {
   "cell_type": "code",
   "execution_count": 3,
   "metadata": {},
   "outputs": [],
   "source": [
    "def inicial(N):   \n",
    "    '''genera una configuración de espines (+1) y (-1) en una red cuadrada de NxN'''\n",
    "    estado = 2*np.random.randint(2, size=(N,N))-1\n",
    "    return estado"
   ]
  },
  {
   "cell_type": "code",
   "execution_count": 51,
   "metadata": {},
   "outputs": [
    {
     "data": {
      "image/png": "[encoded data removed]",
      "text/plain": [
       "<Figure size 1080x360 with 2 Axes>"
      ]
     },
     "metadata": {
      "needs_background": "light"
     },
     "output_type": "display_data"
    }
   ],
   "source": [
    "N = 10        #  tamaño de la red N x N\n",
    "t = 20000     #  número de pasos mc\n",
    "kB= 1         #  Constante de Boltzmann\n",
    "J = 1         #  Constante de interacción entre espines\n",
    "\n",
    "nt=10         # Números de puntos de temperatura\n",
    "T=np.linspace(0.01,2.5,nt)\n",
    "\n",
    "Temperatura = []\n",
    "Energia_prom = []\n",
    "Magnetizacion_prom = []\n",
    "for d in range(len(T)):\n",
    "    config = inicial(N)\n",
    "    Temperatura.append(T[d])\n",
    "    beta=1/(kB*T[d])\n",
    "    Pasos = []\n",
    "    Energia = []\n",
    "    Magnetizacion = []\n",
    "    for k in range(t):\n",
    "        Pasos.append(k)\n",
    "        a = np.random.randint(0, N-1)\n",
    "        b = np.random.randint(0, N-1)\n",
    "        s =  config[a, b]\n",
    "        nb = config[(a+1),b] + config[a,(b+1)] + config[(a-1),b] + config[a,(b-1)]\n",
    "        delta_E = s*nb\n",
    "        if delta_E < 0:\n",
    "            s *= -1\n",
    "        elif rand() < np.exp(-delta_E*beta):\n",
    "            s *= -1\n",
    "        config[a, b] = s\n",
    "\n",
    "    \n",
    "        energia = 0\n",
    "        for i in range(N-1):\n",
    "            for j in range(N-1):\n",
    "                S = config[i,j]\n",
    "                nb = config[(i+1), j] + config[i,(j+1)] + config[(i-1), j] + config[i,(j-1)]\n",
    "                energia += -J*nb*S/(N**2)\n",
    "        Magnetizacion.append(np.sum(config)/(N**2))\n",
    "        Energia.append(energia)\n",
    "\n",
    "    E_p = []\n",
    "    M_p = []\n",
    "    for l in range(len(Pasos)):\n",
    "        if Pasos[l]>15000:            #15000 pasos de estabilización y 5000 para el cálculo del promedio\n",
    "            E_p.append(Energia[l])\n",
    "            M_p.append(Magnetizacion[l])\n",
    "\n",
    "    Energia_prom.append(np.mean(E_p))\n",
    "    Magnetizacion_prom.append(np.mean(M_p))\n",
    "\n",
    "    '''\n",
    "    ############## Gráficas de energía y magnetización contra los pasos del programa ###############\n",
    "    f = plt.figure(figsize=(15, 5));     \n",
    "    sp =  f.add_subplot(1, 2, 1 );\n",
    "    plt.plot(Pasos,Energia, color='IndianRed')\n",
    "    plt.xlabel(\"Pasos\", fontsize=14);\n",
    "    plt.ylabel(\"Energía \", fontsize=14);         \n",
    "    plt.axis('tight');\n",
    "    plt.title('T='+'{0:.2f}'.format(T[d]), fontsize=16);\n",
    "    sp =  f.add_subplot(1, 2, 2 );\n",
    "    plt.plot(Pasos,Magnetizacion, color='RoyalBlue')\n",
    "    plt.xlabel(\"Pasos\", fontsize=14); \n",
    "    plt.ylabel(\"Magnetización \", fontsize=14);   \n",
    "    plt.axis('tight');\n",
    "    plt.title('T='+'{0:.2f}'.format(T[d]), fontsize=16);\n",
    "    plt.savefig('Evst'+'{0:.2f}'.format(T[d])+'.png',dpi=199, bbox_inches='tight')\n",
    "    ################################################################################################\n",
    "    #'''\n",
    "#print(Energia_prom,Magnetizacion_prom)\n",
    "#'''\n",
    "############## Gráficas de energía y magnetización contra los pasos del programa ###############\n",
    "g = plt.figure(figsize=(15, 5));     \n",
    "sp =  g.add_subplot(1, 2, 1 );\n",
    "plt.scatter(Temperatura,Energia_prom, color='IndianRed')\n",
    "plt.xlabel(\"Temperatura\", fontsize=14);\n",
    "plt.ylabel(\"Energía promedio\", fontsize=14);         \n",
    "plt.axis('tight');\n",
    "sp =  g.add_subplot(1, 2, 2 );\n",
    "plt.scatter(Temperatura,Magnetizacion_prom, color='RoyalBlue')\n",
    "plt.xlabel(\"Temperatura\", fontsize=14); \n",
    "plt.ylabel(\"Magnetización promedio\", fontsize=14);   \n",
    "plt.axis('tight');\n",
    "plt.savefig('nt'+str(nt)+'.png',dpi=199, bbox_inches='tight')\n",
    "################################################################################################\n",
    "#'''"
   ]
  },
  {
   "cell_type": "code",
   "execution_count": null,
   "metadata": {},
   "outputs": [],
   "source": []
  }
 ],
 "metadata": {
  "kernelspec": {
   "display_name": "Python 3",
   "language": "python",
   "name": "python3"
  },
  "language_info": {
   "codemirror_mode": {
    "name": "ipython",
    "version": 3
   },
   "file_extension": ".py",
   "mimetype": "text/x-python",
   "name": "python",
   "nbconvert_exporter": "python",
   "pygments_lexer": "ipython3",
   "version": "3.7.3"
  }
 },
 "nbformat": 4,
 "nbformat_minor": 2
}
